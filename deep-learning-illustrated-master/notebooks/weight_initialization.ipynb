{
 "cells": [
  {
   "cell_type": "markdown",
   "metadata": {},
   "source": [
    "# Weight Initialization"
   ]
  },
  {
   "cell_type": "markdown",
   "metadata": {},
   "source": [
    "In this notebook, we experiment with weight initialization approaches to examine their impact on layer outputs."
   ]
  },
  {
   "cell_type": "markdown",
   "metadata": {},
   "source": [
    "[![Open In Colab](https://colab.research.google.com/assets/colab-badge.svg)](https://colab.research.google.com/github/the-deep-learners/deep-learning-illustrated/blob/master/notebooks/weight_initialization.ipynb)"
   ]
  },
  {
   "cell_type": "markdown",
   "metadata": {},
   "source": [
    "#### Load dependencies"
   ]
  },
  {
   "cell_type": "code",
   "execution_count": 1,
   "metadata": {},
   "outputs": [],
   "source": [
    "import numpy as np\n",
    "import matplotlib.pyplot as plt\n",
    "\n",
    "from keras import Sequential\n",
    "from keras.layers import Dense, Activation\n",
    "from keras.initializers import Zeros, RandomNormal, glorot_normal, glorot_uniform"
   ]
  },
  {
   "cell_type": "markdown",
   "metadata": {},
   "source": [
    "#### Set number of neurons"
   ]
  },
  {
   "cell_type": "code",
   "execution_count": 2,
   "metadata": {},
   "outputs": [],
   "source": [
    "n_input = 784\n",
    "n_dense = 256"
   ]
  },
  {
   "cell_type": "markdown",
   "metadata": {},
   "source": [
    "#### Select a bias initializer"
   ]
  },
  {
   "cell_type": "code",
   "execution_count": 3,
   "metadata": {},
   "outputs": [],
   "source": [
    "b_init = Zeros()"
   ]
  },
  {
   "cell_type": "markdown",
   "metadata": {},
   "source": [
    "#### Select a weight initializer"
   ]
  },
  {
   "cell_type": "code",
   "execution_count": 50,
   "metadata": {},
   "outputs": [],
   "source": [
    "# w_init = RandomNormal(stddev=1.0)\n",
    "w_init = glorot_normal()\n",
    "# w_init = glorot_uniform()"
   ]
  },
  {
   "cell_type": "markdown",
   "metadata": {},
   "source": [
    "#### Design neural network architecture"
   ]
  },
  {
   "cell_type": "code",
   "execution_count": 56,
   "metadata": {},
   "outputs": [],
   "source": [
    "model = Sequential()\n",
    "model.add(Dense(n_dense, \n",
    "                input_dim=n_input,\n",
    "                kernel_initializer=w_init,\n",
    "                bias_initializer=b_init))\n",
    "# model.add(Activation('sigmoid'))\n",
    "model.add(Activation('tanh'))\n",
    "# model.add(Activation('relu'))"
   ]
  },
  {
   "cell_type": "markdown",
   "metadata": {},
   "source": [
    "#### Generate random *x* values"
   ]
  },
  {
   "cell_type": "code",
   "execution_count": 57,
   "metadata": {},
   "outputs": [],
   "source": [
    "x = np.random.random((1,n_input))"
   ]
  },
  {
   "cell_type": "markdown",
   "metadata": {},
   "source": [
    "#### Forward propagate through the network"
   ]
  },
  {
   "cell_type": "code",
   "execution_count": 60,
   "metadata": {},
   "outputs": [],
   "source": [
    "a = model.predict(x)"
   ]
  },
  {
   "cell_type": "code",
   "execution_count": 61,
   "metadata": {},
   "outputs": [
    {
     "data": {
      "text/plain": [
       "array([[ 7.20682621e-01,  2.91215271e-01,  3.45841467e-01,\n",
       "        -8.72789443e-01,  4.13508154e-03, -6.54938936e-01,\n",
       "         6.06832504e-01, -4.55272257e-01, -3.82555991e-01,\n",
       "        -6.85350299e-01, -1.18414588e-01, -6.77760690e-02,\n",
       "        -1.35927886e-01, -7.86342561e-01, -3.66156608e-01,\n",
       "        -2.59486973e-01, -3.00677866e-01,  5.14484286e-01,\n",
       "        -5.76963246e-01,  7.33921289e-01,  5.87201476e-01,\n",
       "        -8.26250434e-01,  1.23627663e-01, -6.37916382e-03,\n",
       "         6.90040946e-01,  3.35128516e-01,  6.42070711e-01,\n",
       "         7.05045223e-01,  6.07566178e-01,  7.27564454e-01,\n",
       "         4.24463712e-02, -3.33379537e-01, -5.46366632e-01,\n",
       "         9.11380053e-01,  3.31192732e-01,  6.31550997e-02,\n",
       "        -9.12104309e-01, -7.29876459e-01, -1.87113583e-01,\n",
       "        -1.73994824e-01,  7.02704191e-01, -9.81933400e-02,\n",
       "        -2.92769372e-01,  2.41418019e-01, -1.00014471e-01,\n",
       "        -8.49402428e-01,  3.79211158e-01,  9.25802171e-01,\n",
       "        -8.19122910e-01, -4.84569907e-01,  2.71750003e-01,\n",
       "         4.46996778e-01,  5.03795505e-01,  5.38405955e-01,\n",
       "        -5.05097449e-01, -8.78489375e-01, -2.50310004e-01,\n",
       "        -6.84034944e-01,  7.42594719e-01,  5.20886838e-01,\n",
       "         8.28542590e-01, -1.35310024e-01,  9.42763761e-02,\n",
       "        -5.59070647e-01,  8.84326875e-01, -5.51959395e-01,\n",
       "         3.62041175e-01,  7.95832753e-01, -6.58728778e-01,\n",
       "        -8.07921112e-01,  5.72715938e-01,  5.31049967e-01,\n",
       "         3.96335602e-01,  1.27614737e-01, -5.47322392e-01,\n",
       "         2.87738740e-01,  2.79588103e-01, -8.71679425e-01,\n",
       "         1.61273316e-01, -1.17851675e-01,  6.94619656e-01,\n",
       "         8.03042829e-01, -2.45371968e-01,  6.07943535e-01,\n",
       "         3.08076087e-02, -1.66327506e-01, -1.85315922e-01,\n",
       "        -5.11633337e-01, -7.11786151e-02, -1.99142858e-01,\n",
       "        -1.90729145e-02, -5.72154105e-01, -3.40612859e-01,\n",
       "        -2.41505533e-01, -3.19524944e-01, -1.77405700e-01,\n",
       "        -7.12326050e-01,  1.36691015e-02, -8.68286669e-01,\n",
       "         8.38650942e-01, -3.23975652e-01, -7.26952732e-01,\n",
       "        -2.16924027e-02,  8.64240408e-01,  6.09370351e-01,\n",
       "         8.35253298e-02,  1.09984793e-01, -1.65073857e-01,\n",
       "         3.81192952e-01,  5.66400528e-01,  2.60270834e-01,\n",
       "         7.20226228e-01, -3.19974959e-01,  1.32478148e-01,\n",
       "        -8.32794428e-01,  7.44386077e-01,  4.44124222e-01,\n",
       "        -5.91600955e-01,  8.07180852e-02,  3.48774105e-01,\n",
       "         4.31018174e-01, -8.53824019e-01, -5.30959785e-01,\n",
       "         6.41375333e-02, -5.92465438e-02,  2.31481835e-01,\n",
       "         9.68840867e-02, -8.92761827e-01,  9.25974548e-01,\n",
       "        -1.11355841e-01, -3.03903788e-01,  3.56646717e-01,\n",
       "         2.90063351e-01, -5.51368654e-01,  1.58409640e-01,\n",
       "         8.62301767e-01, -1.12664595e-01, -3.69083524e-01,\n",
       "        -8.55098844e-01,  8.26986730e-01, -3.34103227e-01,\n",
       "         6.77203834e-01, -1.28621101e-01,  9.78126004e-02,\n",
       "         4.16858077e-01, -1.44615307e-01,  8.48211884e-01,\n",
       "         5.77183664e-01, -6.86660707e-02, -3.77969086e-01,\n",
       "         4.14633930e-01,  3.66054386e-01, -7.56202281e-01,\n",
       "        -1.60907656e-01, -2.37791419e-01, -2.06194669e-02,\n",
       "        -1.04003355e-01, -3.79333287e-01,  6.26224816e-01,\n",
       "         1.68977186e-01, -9.24494267e-01,  6.43215537e-01,\n",
       "        -2.92225450e-01, -3.57240558e-01, -3.95392925e-01,\n",
       "         8.52954388e-01,  2.24079803e-01,  6.16609216e-01,\n",
       "         7.37577006e-02,  8.62087131e-01, -3.59294191e-02,\n",
       "         7.74873421e-02, -8.92398119e-01,  7.90555000e-01,\n",
       "        -3.73998970e-01, -2.01059639e-01,  4.61554289e-01,\n",
       "         4.53850001e-01, -3.62398863e-01,  7.35757351e-02,\n",
       "         4.43744034e-01, -6.49713278e-02, -3.07770282e-01,\n",
       "         7.35416949e-01,  2.46097922e-01, -5.68648875e-01,\n",
       "         5.11319280e-01, -4.51335847e-01,  5.21701992e-01,\n",
       "        -4.44527507e-01, -7.88800836e-01,  4.28677052e-01,\n",
       "        -4.04247582e-01,  2.81896800e-01, -5.35205118e-02,\n",
       "         7.80530095e-01,  6.11234426e-01, -9.44746584e-02,\n",
       "        -5.44846356e-01,  5.88687181e-01,  4.51684231e-03,\n",
       "         1.87954446e-03,  8.81761134e-01, -3.99801701e-01,\n",
       "        -9.62564886e-01,  3.15550447e-01,  3.23698103e-01,\n",
       "         6.76965237e-01, -8.75694096e-01,  5.83082263e-04,\n",
       "         7.48019814e-01,  6.79139271e-02,  5.33543229e-01,\n",
       "         2.58817405e-01, -8.24638009e-01, -3.67163390e-01,\n",
       "         6.46427348e-02,  7.91906834e-01,  9.06788230e-01,\n",
       "         5.31927109e-01,  5.79978600e-02,  5.85056782e-01,\n",
       "        -2.21841574e-01, -8.60268772e-02,  3.13862383e-01,\n",
       "         1.61155224e-01,  2.75939941e-01, -1.72042221e-01,\n",
       "         5.57783365e-01, -6.13372028e-01,  3.26614022e-01,\n",
       "        -4.46094602e-01,  5.08725226e-01,  7.19299078e-01,\n",
       "         3.58917952e-01,  6.82788312e-01, -2.42700696e-01,\n",
       "        -1.55439168e-01,  4.55915630e-01,  5.04982769e-01,\n",
       "         7.81781793e-01,  2.75458419e-03, -5.46885747e-03,\n",
       "         8.94987285e-01,  3.59009117e-01, -9.44649160e-01,\n",
       "         8.70644569e-01,  6.93926036e-01, -8.45954180e-01,\n",
       "         8.14535439e-01,  3.58926743e-01,  6.77359939e-01,\n",
       "         2.19118193e-01, -4.48972672e-01,  1.24868326e-01,\n",
       "        -3.41334641e-01]], dtype=float32)"
      ]
     },
     "execution_count": 61,
     "metadata": {},
     "output_type": "execute_result"
    }
   ],
   "source": [
    "a"
   ]
  },
  {
   "cell_type": "code",
   "execution_count": 62,
   "metadata": {},
   "outputs": [
    {
     "data": {
      "image/png": "[encoded data removed]",
      "text/plain": [
       "<Figure size 432x288 with 1 Axes>"
      ]
     },
     "metadata": {
      "needs_background": "light"
     },
     "output_type": "display_data"
    }
   ],
   "source": [
    "_ = plt.hist(np.transpose(a))"
   ]
  },
  {
   "cell_type": "code",
   "execution_count": null,
   "metadata": {},
   "outputs": [],
   "source": []
  },
  {
   "cell_type": "code",
   "execution_count": null,
   "metadata": {},
   "outputs": [],
   "source": []
  }
 ],
 "metadata": {
  "kernelspec": {
   "display_name": "Python 3",
   "language": "python",
   "name": "python3"
  },
  "language_info": {
   "codemirror_mode": {
    "name": "ipython",
    "version": 3
   },
   "file_extension": ".py",
   "mimetype": "text/x-python",
   "name": "python",
   "nbconvert_exporter": "python",
   "pygments_lexer": "ipython3",
   "version": "3.8.5"
  }
 },
 "nbformat": 4,
 "nbformat_minor": 2
}
