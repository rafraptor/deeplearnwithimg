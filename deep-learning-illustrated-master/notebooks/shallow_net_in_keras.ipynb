{
 "cells": [
  {
   "cell_type": "markdown",
   "metadata": {},
   "source": [
    "# Shallow Neural Network in Keras"
   ]
  },
  {
   "cell_type": "markdown",
   "metadata": {},
   "source": [
    "Build a shallow neural network to classify MNIST digits"
   ]
  },
  {
   "cell_type": "markdown",
   "metadata": {},
   "source": [
    "[![Open In Colab](https://colab.research.google.com/assets/colab-badge.svg)](https://colab.research.google.com/github/the-deep-learners/deep-learning-illustrated/blob/master/notebooks/shallow_net_in_keras.ipynb)"
   ]
  },
  {
   "cell_type": "markdown",
   "metadata": {},
   "source": [
    "#### Load dependencies"
   ]
  },
  {
   "cell_type": "code",
   "execution_count": 3,
   "metadata": {},
   "outputs": [],
   "source": [
    "import keras\n",
    "from keras.datasets import mnist\n",
    "from keras.models import Sequential\n",
    "from keras.layers import Dense\n",
    "from keras.optimizers import SGD\n",
    "from matplotlib import pyplot as plt"
   ]
  },
  {
   "cell_type": "markdown",
   "metadata": {},
   "source": [
    "#### Load data"
   ]
  },
  {
   "cell_type": "code",
   "execution_count": 2,
   "metadata": {
    "scrolled": true
   },
   "outputs": [],
   "source": [
    "(X_train, y_train), (X_valid, y_valid) = mnist.load_data()"
   ]
  },
  {
   "cell_type": "code",
   "execution_count": 3,
   "metadata": {},
   "outputs": [
    {
     "data": {
      "text/plain": [
       "(60000, 28, 28)"
      ]
     },
     "execution_count": 3,
     "metadata": {},
     "output_type": "execute_result"
    }
   ],
   "source": [
    "X_train.shape"
   ]
  },
  {
   "cell_type": "code",
   "execution_count": 4,
   "metadata": {},
   "outputs": [
    {
     "data": {
      "text/plain": [
       "(60000,)"
      ]
     },
     "execution_count": 4,
     "metadata": {},
     "output_type": "execute_result"
    }
   ],
   "source": [
    "y_train.shape"
   ]
  },
  {
   "cell_type": "code",
   "execution_count": 5,
   "metadata": {},
   "outputs": [
    {
     "data": {
      "text/plain": [
       "array([5, 0, 4, 1, 9, 2, 1, 3, 1, 4, 3, 5], dtype=uint8)"
      ]
     },
     "execution_count": 5,
     "metadata": {},
     "output_type": "execute_result"
    }
   ],
   "source": [
    "y_train[0:12]"
   ]
  },
  {
   "cell_type": "code",
   "execution_count": 6,
   "metadata": {},
   "outputs": [
    {
     "data": {
      "image/png": "[encoded data removed]",
      "text/plain": [
       "<matplotlib.figure.Figure at 0x7f7ccf591e80>"
      ]
     },
     "metadata": {},
     "output_type": "display_data"
    }
   ],
   "source": [
    "plt.figure(figsize=(5,5))\n",
    "for k in range(12):\n",
    "    plt.subplot(3, 4, k+1)\n",
    "    plt.imshow(X_train[k], cmap='Greys')\n",
    "    plt.axis('off')\n",
    "plt.tight_layout()\n",
    "plt.show()"
   ]
  },
  {
   "cell_type": "code",
   "execution_count": 7,
   "metadata": {},
   "outputs": [
    {
     "data": {
      "text/plain": [
       "(10000, 28, 28)"
      ]
     },
     "execution_count": 7,
     "metadata": {},
     "output_type": "execute_result"
    }
   ],
   "source": [
    "X_valid.shape"
   ]
  },
  {
   "cell_type": "code",
   "execution_count": 8,
   "metadata": {},
   "outputs": [
    {
     "data": {
      "text/plain": [
       "(10000,)"
      ]
     },
     "execution_count": 8,
     "metadata": {},
     "output_type": "execute_result"
    }
   ],
   "source": [
    "y_valid.shape"
   ]
  },
  {
   "cell_type": "code",
   "execution_count": 9,
   "metadata": {},
   "outputs": [
    {
     "data": {
      "text/plain": [
       "<matplotlib.image.AxesImage at 0x7f7cc4506978>"
      ]
     },
     "execution_count": 9,
     "metadata": {},
     "output_type": "execute_result"
    },
    {
     "data": {
      "image/png": "[encoded data removed]",
      "text/plain": [
       "<matplotlib.figure.Figure at 0x7f7ccbdecf98>"
      ]
     },
     "metadata": {},
     "output_type": "display_data"
    }
   ],
   "source": [
    "plt.imshow(X_valid[0], cmap='Greys')"
   ]
  },
  {
   "cell_type": "code",
   "execution_count": 10,
   "metadata": {},
   "outputs": [
    {
     "data": {
      "text/plain": [
       "array([[  0,   0,   0,   0,   0,   0,   0,   0,   0,   0,   0,   0,   0,\n",
       "          0,   0,   0,   0,   0,   0,   0,   0,   0,   0,   0,   0,   0,\n",
       "          0,   0],\n",
       "       [  0,   0,   0,   0,   0,   0,   0,   0,   0,   0,   0,   0,   0,\n",
       "          0,   0,   0,   0,   0,   0,   0,   0,   0,   0,   0,   0,   0,\n",
       "          0,   0],\n",
       "       [  0,   0,   0,   0,   0,   0,   0,   0,   0,   0,   0,   0,   0,\n",
       "          0,   0,   0,   0,   0,   0,   0,   0,   0,   0,   0,   0,   0,\n",
       "          0,   0],\n",
       "       [  0,   0,   0,   0,   0,   0,   0,   0,   0,   0,   0,   0,   0,\n",
       "          0,   0,   0,   0,   0,   0,   0,   0,   0,   0,   0,   0,   0,\n",
       "          0,   0],\n",
       "       [  0,   0,   0,   0,   0,   0,   0,   0,   0,   0,   0,   0,   0,\n",
       "          0,   0,   0,   0,   0,   0,   0,   0,   0,   0,   0,   0,   0,\n",
       "          0,   0],\n",
       "       [  0,   0,   0,   0,   0,   0,   0,   0,   0,   0,   0,   0,   0,\n",
       "          0,   0,   0,   0,   0,   0,   0,   0,   0,   0,   0,   0,   0,\n",
       "          0,   0],\n",
       "       [  0,   0,   0,   0,   0,   0,   0,   0,   0,   0,   0,   0,   0,\n",
       "          0,   0,   0,   0,   0,   0,   0,   0,   0,   0,   0,   0,   0,\n",
       "          0,   0],\n",
       "       [  0,   0,   0,   0,   0,   0,  84, 185, 159, 151,  60,  36,   0,\n",
       "          0,   0,   0,   0,   0,   0,   0,   0,   0,   0,   0,   0,   0,\n",
       "          0,   0],\n",
       "       [  0,   0,   0,   0,   0,   0, 222, 254, 254, 254, 254, 241, 198,\n",
       "        198, 198, 198, 198, 198, 198, 198, 170,  52,   0,   0,   0,   0,\n",
       "          0,   0],\n",
       "       [  0,   0,   0,   0,   0,   0,  67, 114,  72, 114, 163, 227, 254,\n",
       "        225, 254, 254, 254, 250, 229, 254, 254, 140,   0,   0,   0,   0,\n",
       "          0,   0],\n",
       "       [  0,   0,   0,   0,   0,   0,   0,   0,   0,   0,   0,  17,  66,\n",
       "         14,  67,  67,  67,  59,  21, 236, 254, 106,   0,   0,   0,   0,\n",
       "          0,   0],\n",
       "       [  0,   0,   0,   0,   0,   0,   0,   0,   0,   0,   0,   0,   0,\n",
       "          0,   0,   0,   0,   0,  83, 253, 209,  18,   0,   0,   0,   0,\n",
       "          0,   0],\n",
       "       [  0,   0,   0,   0,   0,   0,   0,   0,   0,   0,   0,   0,   0,\n",
       "          0,   0,   0,   0,  22, 233, 255,  83,   0,   0,   0,   0,   0,\n",
       "          0,   0],\n",
       "       [  0,   0,   0,   0,   0,   0,   0,   0,   0,   0,   0,   0,   0,\n",
       "          0,   0,   0,   0, 129, 254, 238,  44,   0,   0,   0,   0,   0,\n",
       "          0,   0],\n",
       "       [  0,   0,   0,   0,   0,   0,   0,   0,   0,   0,   0,   0,   0,\n",
       "          0,   0,   0,  59, 249, 254,  62,   0,   0,   0,   0,   0,   0,\n",
       "          0,   0],\n",
       "       [  0,   0,   0,   0,   0,   0,   0,   0,   0,   0,   0,   0,   0,\n",
       "          0,   0,   0, 133, 254, 187,   5,   0,   0,   0,   0,   0,   0,\n",
       "          0,   0],\n",
       "       [  0,   0,   0,   0,   0,   0,   0,   0,   0,   0,   0,   0,   0,\n",
       "          0,   0,   9, 205, 248,  58,   0,   0,   0,   0,   0,   0,   0,\n",
       "          0,   0],\n",
       "       [  0,   0,   0,   0,   0,   0,   0,   0,   0,   0,   0,   0,   0,\n",
       "          0,   0, 126, 254, 182,   0,   0,   0,   0,   0,   0,   0,   0,\n",
       "          0,   0],\n",
       "       [  0,   0,   0,   0,   0,   0,   0,   0,   0,   0,   0,   0,   0,\n",
       "          0,  75, 251, 240,  57,   0,   0,   0,   0,   0,   0,   0,   0,\n",
       "          0,   0],\n",
       "       [  0,   0,   0,   0,   0,   0,   0,   0,   0,   0,   0,   0,   0,\n",
       "         19, 221, 254, 166,   0,   0,   0,   0,   0,   0,   0,   0,   0,\n",
       "          0,   0],\n",
       "       [  0,   0,   0,   0,   0,   0,   0,   0,   0,   0,   0,   0,   3,\n",
       "        203, 254, 219,  35,   0,   0,   0,   0,   0,   0,   0,   0,   0,\n",
       "          0,   0],\n",
       "       [  0,   0,   0,   0,   0,   0,   0,   0,   0,   0,   0,   0,  38,\n",
       "        254, 254,  77,   0,   0,   0,   0,   0,   0,   0,   0,   0,   0,\n",
       "          0,   0],\n",
       "       [  0,   0,   0,   0,   0,   0,   0,   0,   0,   0,   0,  31, 224,\n",
       "        254, 115,   1,   0,   0,   0,   0,   0,   0,   0,   0,   0,   0,\n",
       "          0,   0],\n",
       "       [  0,   0,   0,   0,   0,   0,   0,   0,   0,   0,   0, 133, 254,\n",
       "        254,  52,   0,   0,   0,   0,   0,   0,   0,   0,   0,   0,   0,\n",
       "          0,   0],\n",
       "       [  0,   0,   0,   0,   0,   0,   0,   0,   0,   0,  61, 242, 254,\n",
       "        254,  52,   0,   0,   0,   0,   0,   0,   0,   0,   0,   0,   0,\n",
       "          0,   0],\n",
       "       [  0,   0,   0,   0,   0,   0,   0,   0,   0,   0, 121, 254, 254,\n",
       "        219,  40,   0,   0,   0,   0,   0,   0,   0,   0,   0,   0,   0,\n",
       "          0,   0],\n",
       "       [  0,   0,   0,   0,   0,   0,   0,   0,   0,   0, 121, 254, 207,\n",
       "         18,   0,   0,   0,   0,   0,   0,   0,   0,   0,   0,   0,   0,\n",
       "          0,   0],\n",
       "       [  0,   0,   0,   0,   0,   0,   0,   0,   0,   0,   0,   0,   0,\n",
       "          0,   0,   0,   0,   0,   0,   0,   0,   0,   0,   0,   0,   0,\n",
       "          0,   0]], dtype=uint8)"
      ]
     },
     "execution_count": 10,
     "metadata": {},
     "output_type": "execute_result"
    }
   ],
   "source": [
    "X_valid[0]"
   ]
  },
  {
   "cell_type": "code",
   "execution_count": 11,
   "metadata": {},
   "outputs": [
    {
     "data": {
      "text/plain": [
       "7"
      ]
     },
     "execution_count": 11,
     "metadata": {},
     "output_type": "execute_result"
    }
   ],
   "source": [
    "y_valid[0]"
   ]
  },
  {
   "cell_type": "markdown",
   "metadata": {},
   "source": [
    "#### Preprocess data"
   ]
  },
  {
   "cell_type": "code",
   "execution_count": 12,
   "metadata": {},
   "outputs": [],
   "source": [
    "X_train = X_train.reshape(60000, 784).astype('float32')\n",
    "X_valid = X_valid.reshape(10000, 784).astype('float32')"
   ]
  },
  {
   "cell_type": "code",
   "execution_count": 13,
   "metadata": {},
   "outputs": [],
   "source": [
    "X_train /= 255\n",
    "X_valid /= 255"
   ]
  },
  {
   "cell_type": "code",
   "execution_count": 14,
   "metadata": {},
   "outputs": [
    {
     "data": {
      "text/plain": [
       "array([0.        , 0.        , 0.        , 0.        , 0.        ,\n",
       "       0.        , 0.        , 0.        , 0.        , 0.        ,\n",
       "       0.        , 0.        , 0.        , 0.        , 0.        ,\n",
       "       0.        , 0.        , 0.        , 0.        , 0.        ,\n",
       "       0.        , 0.        , 0.        , 0.        , 0.        ,\n",
       "       0.        , 0.        , 0.        , 0.        , 0.        ,\n",
       "       0.        , 0.        , 0.        , 0.        , 0.        ,\n",
       "       0.        , 0.        , 0.        , 0.        , 0.        ,\n",
       "       0.        , 0.        , 0.        , 0.        , 0.        ,\n",
       "       0.        , 0.        , 0.        , 0.        , 0.        ,\n",
       "       0.        , 0.        , 0.        , 0.        , 0.        ,\n",
       "       0.        , 0.        , 0.        , 0.        , 0.        ,\n",
       "       0.        , 0.        , 0.        , 0.        , 0.        ,\n",
       "       0.        , 0.        , 0.        , 0.        , 0.        ,\n",
       "       0.        , 0.        , 0.        , 0.        , 0.        ,\n",
       "       0.        , 0.        , 0.        , 0.        , 0.        ,\n",
       "       0.        , 0.        , 0.        , 0.        , 0.        ,\n",
       "       0.        , 0.        , 0.        , 0.        , 0.        ,\n",
       "       0.        , 0.        , 0.        , 0.        , 0.        ,\n",
       "       0.        , 0.        , 0.        , 0.        , 0.        ,\n",
       "       0.        , 0.        , 0.        , 0.        , 0.        ,\n",
       "       0.        , 0.        , 0.        , 0.        , 0.        ,\n",
       "       0.        , 0.        , 0.        , 0.        , 0.        ,\n",
       "       0.        , 0.        , 0.        , 0.        , 0.        ,\n",
       "       0.        , 0.        , 0.        , 0.        , 0.        ,\n",
       "       0.        , 0.        , 0.        , 0.        , 0.        ,\n",
       "       0.        , 0.        , 0.        , 0.        , 0.        ,\n",
       "       0.        , 0.        , 0.        , 0.        , 0.        ,\n",
       "       0.        , 0.        , 0.        , 0.        , 0.        ,\n",
       "       0.        , 0.        , 0.        , 0.        , 0.        ,\n",
       "       0.        , 0.        , 0.        , 0.        , 0.        ,\n",
       "       0.        , 0.        , 0.        , 0.        , 0.        ,\n",
       "       0.        , 0.        , 0.        , 0.        , 0.        ,\n",
       "       0.        , 0.        , 0.        , 0.        , 0.        ,\n",
       "       0.        , 0.        , 0.        , 0.        , 0.        ,\n",
       "       0.        , 0.        , 0.        , 0.        , 0.        ,\n",
       "       0.        , 0.        , 0.        , 0.        , 0.        ,\n",
       "       0.        , 0.        , 0.        , 0.        , 0.        ,\n",
       "       0.        , 0.        , 0.        , 0.        , 0.        ,\n",
       "       0.        , 0.        , 0.        , 0.        , 0.        ,\n",
       "       0.        , 0.        , 0.32941177, 0.7254902 , 0.62352943,\n",
       "       0.5921569 , 0.23529412, 0.14117648, 0.        , 0.        ,\n",
       "       0.        , 0.        , 0.        , 0.        , 0.        ,\n",
       "       0.        , 0.        , 0.        , 0.        , 0.        ,\n",
       "       0.        , 0.        , 0.        , 0.        , 0.        ,\n",
       "       0.        , 0.        , 0.        , 0.        , 0.        ,\n",
       "       0.87058824, 0.99607843, 0.99607843, 0.99607843, 0.99607843,\n",
       "       0.94509804, 0.7764706 , 0.7764706 , 0.7764706 , 0.7764706 ,\n",
       "       0.7764706 , 0.7764706 , 0.7764706 , 0.7764706 , 0.6666667 ,\n",
       "       0.20392157, 0.        , 0.        , 0.        , 0.        ,\n",
       "       0.        , 0.        , 0.        , 0.        , 0.        ,\n",
       "       0.        , 0.        , 0.        , 0.2627451 , 0.44705883,\n",
       "       0.28235295, 0.44705883, 0.6392157 , 0.8901961 , 0.99607843,\n",
       "       0.88235295, 0.99607843, 0.99607843, 0.99607843, 0.98039216,\n",
       "       0.8980392 , 0.99607843, 0.99607843, 0.54901963, 0.        ,\n",
       "       0.        , 0.        , 0.        , 0.        , 0.        ,\n",
       "       0.        , 0.        , 0.        , 0.        , 0.        ,\n",
       "       0.        , 0.        , 0.        , 0.        , 0.        ,\n",
       "       0.        , 0.06666667, 0.25882354, 0.05490196, 0.2627451 ,\n",
       "       0.2627451 , 0.2627451 , 0.23137255, 0.08235294, 0.9254902 ,\n",
       "       0.99607843, 0.41568628, 0.        , 0.        , 0.        ,\n",
       "       0.        , 0.        , 0.        , 0.        , 0.        ,\n",
       "       0.        , 0.        , 0.        , 0.        , 0.        ,\n",
       "       0.        , 0.        , 0.        , 0.        , 0.        ,\n",
       "       0.        , 0.        , 0.        , 0.        , 0.        ,\n",
       "       0.        , 0.3254902 , 0.99215686, 0.81960785, 0.07058824,\n",
       "       0.        , 0.        , 0.        , 0.        , 0.        ,\n",
       "       0.        , 0.        , 0.        , 0.        , 0.        ,\n",
       "       0.        , 0.        , 0.        , 0.        , 0.        ,\n",
       "       0.        , 0.        , 0.        , 0.        , 0.        ,\n",
       "       0.        , 0.        , 0.        , 0.08627451, 0.9137255 ,\n",
       "       1.        , 0.3254902 , 0.        , 0.        , 0.        ,\n",
       "       0.        , 0.        , 0.        , 0.        , 0.        ,\n",
       "       0.        , 0.        , 0.        , 0.        , 0.        ,\n",
       "       0.        , 0.        , 0.        , 0.        , 0.        ,\n",
       "       0.        , 0.        , 0.        , 0.        , 0.        ,\n",
       "       0.        , 0.5058824 , 0.99607843, 0.93333334, 0.17254902,\n",
       "       0.        , 0.        , 0.        , 0.        , 0.        ,\n",
       "       0.        , 0.        , 0.        , 0.        , 0.        ,\n",
       "       0.        , 0.        , 0.        , 0.        , 0.        ,\n",
       "       0.        , 0.        , 0.        , 0.        , 0.        ,\n",
       "       0.        , 0.        , 0.        , 0.23137255, 0.9764706 ,\n",
       "       0.99607843, 0.24313726, 0.        , 0.        , 0.        ,\n",
       "       0.        , 0.        , 0.        , 0.        , 0.        ,\n",
       "       0.        , 0.        , 0.        , 0.        , 0.        ,\n",
       "       0.        , 0.        , 0.        , 0.        , 0.        ,\n",
       "       0.        , 0.        , 0.        , 0.        , 0.        ,\n",
       "       0.        , 0.52156866, 0.99607843, 0.73333335, 0.01960784,\n",
       "       0.        , 0.        , 0.        , 0.        , 0.        ,\n",
       "       0.        , 0.        , 0.        , 0.        , 0.        ,\n",
       "       0.        , 0.        , 0.        , 0.        , 0.        ,\n",
       "       0.        , 0.        , 0.        , 0.        , 0.        ,\n",
       "       0.        , 0.        , 0.        , 0.03529412, 0.8039216 ,\n",
       "       0.972549  , 0.22745098, 0.        , 0.        , 0.        ,\n",
       "       0.        , 0.        , 0.        , 0.        , 0.        ,\n",
       "       0.        , 0.        , 0.        , 0.        , 0.        ,\n",
       "       0.        , 0.        , 0.        , 0.        , 0.        ,\n",
       "       0.        , 0.        , 0.        , 0.        , 0.        ,\n",
       "       0.        , 0.49411765, 0.99607843, 0.7137255 , 0.        ,\n",
       "       0.        , 0.        , 0.        , 0.        , 0.        ,\n",
       "       0.        , 0.        , 0.        , 0.        , 0.        ,\n",
       "       0.        , 0.        , 0.        , 0.        , 0.        ,\n",
       "       0.        , 0.        , 0.        , 0.        , 0.        ,\n",
       "       0.        , 0.        , 0.        , 0.29411766, 0.9843137 ,\n",
       "       0.9411765 , 0.22352941, 0.        , 0.        , 0.        ,\n",
       "       0.        , 0.        , 0.        , 0.        , 0.        ,\n",
       "       0.        , 0.        , 0.        , 0.        , 0.        ,\n",
       "       0.        , 0.        , 0.        , 0.        , 0.        ,\n",
       "       0.        , 0.        , 0.        , 0.        , 0.        ,\n",
       "       0.07450981, 0.8666667 , 0.99607843, 0.6509804 , 0.        ,\n",
       "       0.        , 0.        , 0.        , 0.        , 0.        ,\n",
       "       0.        , 0.        , 0.        , 0.        , 0.        ,\n",
       "       0.        , 0.        , 0.        , 0.        , 0.        ,\n",
       "       0.        , 0.        , 0.        , 0.        , 0.        ,\n",
       "       0.        , 0.        , 0.01176471, 0.79607844, 0.99607843,\n",
       "       0.85882354, 0.13725491, 0.        , 0.        , 0.        ,\n",
       "       0.        , 0.        , 0.        , 0.        , 0.        ,\n",
       "       0.        , 0.        , 0.        , 0.        , 0.        ,\n",
       "       0.        , 0.        , 0.        , 0.        , 0.        ,\n",
       "       0.        , 0.        , 0.        , 0.        , 0.        ,\n",
       "       0.14901961, 0.99607843, 0.99607843, 0.3019608 , 0.        ,\n",
       "       0.        , 0.        , 0.        , 0.        , 0.        ,\n",
       "       0.        , 0.        , 0.        , 0.        , 0.        ,\n",
       "       0.        , 0.        , 0.        , 0.        , 0.        ,\n",
       "       0.        , 0.        , 0.        , 0.        , 0.        ,\n",
       "       0.        , 0.        , 0.12156863, 0.8784314 , 0.99607843,\n",
       "       0.4509804 , 0.00392157, 0.        , 0.        , 0.        ,\n",
       "       0.        , 0.        , 0.        , 0.        , 0.        ,\n",
       "       0.        , 0.        , 0.        , 0.        , 0.        ,\n",
       "       0.        , 0.        , 0.        , 0.        , 0.        ,\n",
       "       0.        , 0.        , 0.        , 0.        , 0.        ,\n",
       "       0.52156866, 0.99607843, 0.99607843, 0.20392157, 0.        ,\n",
       "       0.        , 0.        , 0.        , 0.        , 0.        ,\n",
       "       0.        , 0.        , 0.        , 0.        , 0.        ,\n",
       "       0.        , 0.        , 0.        , 0.        , 0.        ,\n",
       "       0.        , 0.        , 0.        , 0.        , 0.        ,\n",
       "       0.        , 0.        , 0.23921569, 0.9490196 , 0.99607843,\n",
       "       0.99607843, 0.20392157, 0.        , 0.        , 0.        ,\n",
       "       0.        , 0.        , 0.        , 0.        , 0.        ,\n",
       "       0.        , 0.        , 0.        , 0.        , 0.        ,\n",
       "       0.        , 0.        , 0.        , 0.        , 0.        ,\n",
       "       0.        , 0.        , 0.        , 0.        , 0.        ,\n",
       "       0.4745098 , 0.99607843, 0.99607843, 0.85882354, 0.15686275,\n",
       "       0.        , 0.        , 0.        , 0.        , 0.        ,\n",
       "       0.        , 0.        , 0.        , 0.        , 0.        ,\n",
       "       0.        , 0.        , 0.        , 0.        , 0.        ,\n",
       "       0.        , 0.        , 0.        , 0.        , 0.        ,\n",
       "       0.        , 0.        , 0.        , 0.4745098 , 0.99607843,\n",
       "       0.8117647 , 0.07058824, 0.        , 0.        , 0.        ,\n",
       "       0.        , 0.        , 0.        , 0.        , 0.        ,\n",
       "       0.        , 0.        , 0.        , 0.        , 0.        ,\n",
       "       0.        , 0.        , 0.        , 0.        , 0.        ,\n",
       "       0.        , 0.        , 0.        , 0.        , 0.        ,\n",
       "       0.        , 0.        , 0.        , 0.        , 0.        ,\n",
       "       0.        , 0.        , 0.        , 0.        , 0.        ,\n",
       "       0.        , 0.        , 0.        , 0.        , 0.        ,\n",
       "       0.        , 0.        , 0.        , 0.        ], dtype=float32)"
      ]
     },
     "execution_count": 14,
     "metadata": {},
     "output_type": "execute_result"
    }
   ],
   "source": [
    "X_valid[0]"
   ]
  },
  {
   "cell_type": "code",
   "execution_count": 15,
   "metadata": {},
   "outputs": [],
   "source": [
    "n_classes = 10\n",
    "y_train = keras.utils.to_categorical(y_train, n_classes)\n",
    "y_valid = keras.utils.to_categorical(y_valid, n_classes)"
   ]
  },
  {
   "cell_type": "code",
   "execution_count": 16,
   "metadata": {},
   "outputs": [
    {
     "data": {
      "text/plain": [
       "array([0., 0., 0., 0., 0., 0., 0., 1., 0., 0.], dtype=float32)"
      ]
     },
     "execution_count": 16,
     "metadata": {},
     "output_type": "execute_result"
    }
   ],
   "source": [
    "y_valid[0]"
   ]
  },
  {
   "cell_type": "markdown",
   "metadata": {},
   "source": [
    "#### Design neural network architecture"
   ]
  },
  {
   "cell_type": "code",
   "execution_count": 17,
   "metadata": {},
   "outputs": [],
   "source": [
    "model = Sequential()\n",
    "model.add(Dense(64, activation='sigmoid', input_shape=(784,)))\n",
    "model.add(Dense(10, activation='softmax'))"
   ]
  },
  {
   "cell_type": "code",
   "execution_count": 18,
   "metadata": {},
   "outputs": [
    {
     "name": "stdout",
     "output_type": "stream",
     "text": [
      "_________________________________________________________________\n",
      "Layer (type)                 Output Shape              Param #   \n",
      "=================================================================\n",
      "dense_1 (Dense)              (None, 64)                50240     \n",
      "_________________________________________________________________\n",
      "dense_2 (Dense)              (None, 10)                650       \n",
      "=================================================================\n",
      "Total params: 50,890\n",
      "Trainable params: 50,890\n",
      "Non-trainable params: 0\n",
      "_________________________________________________________________\n"
     ]
    }
   ],
   "source": [
    "model.summary()"
   ]
  },
  {
   "cell_type": "code",
   "execution_count": 19,
   "metadata": {},
   "outputs": [
    {
     "data": {
      "text/plain": [
       "50176"
      ]
     },
     "execution_count": 19,
     "metadata": {},
     "output_type": "execute_result"
    }
   ],
   "source": [
    "(64*784)"
   ]
  },
  {
   "cell_type": "code",
   "execution_count": 20,
   "metadata": {},
   "outputs": [
    {
     "data": {
      "text/plain": [
       "50240"
      ]
     },
     "execution_count": 20,
     "metadata": {},
     "output_type": "execute_result"
    }
   ],
   "source": [
    "(64*784)+64"
   ]
  },
  {
   "cell_type": "code",
   "execution_count": 21,
   "metadata": {},
   "outputs": [
    {
     "data": {
      "text/plain": [
       "650"
      ]
     },
     "execution_count": 21,
     "metadata": {},
     "output_type": "execute_result"
    }
   ],
   "source": [
    "(10*64)+10"
   ]
  },
  {
   "cell_type": "markdown",
   "metadata": {},
   "source": [
    "#### Configure model"
   ]
  },
  {
   "cell_type": "code",
   "execution_count": 22,
   "metadata": {},
   "outputs": [],
   "source": [
    "model.compile(loss='mean_squared_error', optimizer=SGD(lr=0.01), metrics=['accuracy'])"
   ]
  },
  {
   "cell_type": "markdown",
   "metadata": {},
   "source": [
    "#### Train!"
   ]
  },
  {
   "cell_type": "code",
   "execution_count": 23,
   "metadata": {},
   "outputs": [
    {
     "name": "stdout",
     "output_type": "stream",
     "text": [
      "Train on 60000 samples, validate on 10000 samples\n",
      "Epoch 1/200\n",
      "60000/60000 [==============================] - 1s 12us/step - loss: 0.0923 - acc: 0.0943 - val_loss: 0.0919 - val_acc: 0.1010\n",
      "Epoch 2/200\n",
      "60000/60000 [==============================] - 1s 10us/step - loss: 0.0916 - acc: 0.0979 - val_loss: 0.0912 - val_acc: 0.1075\n",
      "Epoch 3/200\n",
      "60000/60000 [==============================] - 1s 10us/step - loss: 0.0910 - acc: 0.1045 - val_loss: 0.0907 - val_acc: 0.1165\n",
      "Epoch 4/200\n",
      "60000/60000 [==============================] - 1s 10us/step - loss: 0.0905 - acc: 0.1157 - val_loss: 0.0902 - val_acc: 0.1330\n",
      "Epoch 5/200\n",
      "60000/60000 [==============================] - 1s 10us/step - loss: 0.0900 - acc: 0.1386 - val_loss: 0.0898 - val_acc: 0.1653\n",
      "Epoch 6/200\n",
      "60000/60000 [==============================] - 1s 10us/step - loss: 0.0896 - acc: 0.1754 - val_loss: 0.0894 - val_acc: 0.2143\n",
      "Epoch 7/200\n",
      "60000/60000 [==============================] - 1s 10us/step - loss: 0.0892 - acc: 0.2260 - val_loss: 0.0890 - val_acc: 0.2720\n",
      "Epoch 8/200\n",
      "60000/60000 [==============================] - 1s 10us/step - loss: 0.0889 - acc: 0.2820 - val_loss: 0.0887 - val_acc: 0.3124\n",
      "Epoch 9/200\n",
      "60000/60000 [==============================] - 1s 10us/step - loss: 0.0885 - acc: 0.3227 - val_loss: 0.0883 - val_acc: 0.3474\n",
      "Epoch 10/200\n",
      "60000/60000 [==============================] - 1s 10us/step - loss: 0.0882 - acc: 0.3527 - val_loss: 0.0880 - val_acc: 0.3649\n",
      "Epoch 11/200\n",
      "60000/60000 [==============================] - 1s 10us/step - loss: 0.0878 - acc: 0.3717 - val_loss: 0.0876 - val_acc: 0.3791\n",
      "Epoch 12/200\n",
      "60000/60000 [==============================] - 1s 10us/step - loss: 0.0875 - acc: 0.3777 - val_loss: 0.0873 - val_acc: 0.3815\n",
      "Epoch 13/200\n",
      "60000/60000 [==============================] - 1s 10us/step - loss: 0.0871 - acc: 0.3794 - val_loss: 0.0869 - val_acc: 0.3820\n",
      "Epoch 14/200\n",
      "60000/60000 [==============================] - 1s 10us/step - loss: 0.0868 - acc: 0.3786 - val_loss: 0.0866 - val_acc: 0.3811\n",
      "Epoch 15/200\n",
      "60000/60000 [==============================] - 1s 10us/step - loss: 0.0864 - acc: 0.3783 - val_loss: 0.0862 - val_acc: 0.3789\n",
      "Epoch 16/200\n",
      "60000/60000 [==============================] - 1s 10us/step - loss: 0.0861 - acc: 0.3787 - val_loss: 0.0858 - val_acc: 0.3799\n",
      "Epoch 17/200\n",
      "60000/60000 [==============================] - 1s 10us/step - loss: 0.0857 - acc: 0.3801 - val_loss: 0.0854 - val_acc: 0.3794\n",
      "Epoch 18/200\n",
      "60000/60000 [==============================] - 1s 10us/step - loss: 0.0853 - acc: 0.3799 - val_loss: 0.0851 - val_acc: 0.3815\n",
      "Epoch 19/200\n",
      "60000/60000 [==============================] - 1s 10us/step - loss: 0.0849 - acc: 0.3815 - val_loss: 0.0847 - val_acc: 0.3818\n",
      "Epoch 20/200\n",
      "60000/60000 [==============================] - 1s 10us/step - loss: 0.0845 - acc: 0.3816 - val_loss: 0.0843 - val_acc: 0.3836\n",
      "Epoch 21/200\n",
      "60000/60000 [==============================] - 1s 9us/step - loss: 0.0842 - acc: 0.3845 - val_loss: 0.0839 - val_acc: 0.3861\n",
      "Epoch 22/200\n",
      "60000/60000 [==============================] - 1s 10us/step - loss: 0.0838 - acc: 0.3867 - val_loss: 0.0835 - val_acc: 0.3882\n",
      "Epoch 23/200\n",
      "60000/60000 [==============================] - 1s 10us/step - loss: 0.0833 - acc: 0.3893 - val_loss: 0.0830 - val_acc: 0.3917\n",
      "Epoch 24/200\n",
      "60000/60000 [==============================] - 1s 10us/step - loss: 0.0829 - acc: 0.3913 - val_loss: 0.0826 - val_acc: 0.3956\n",
      "Epoch 25/200\n",
      "60000/60000 [==============================] - 1s 10us/step - loss: 0.0825 - acc: 0.3951 - val_loss: 0.0822 - val_acc: 0.4001\n",
      "Epoch 26/200\n",
      "60000/60000 [==============================] - 1s 10us/step - loss: 0.0821 - acc: 0.3993 - val_loss: 0.0817 - val_acc: 0.4034\n",
      "Epoch 27/200\n",
      "60000/60000 [==============================] - 1s 10us/step - loss: 0.0816 - acc: 0.4021 - val_loss: 0.0813 - val_acc: 0.4075\n",
      "Epoch 28/200\n",
      "60000/60000 [==============================] - 1s 10us/step - loss: 0.0812 - acc: 0.4078 - val_loss: 0.0808 - val_acc: 0.4118\n",
      "Epoch 29/200\n",
      "60000/60000 [==============================] - 1s 10us/step - loss: 0.0808 - acc: 0.4130 - val_loss: 0.0804 - val_acc: 0.4172\n",
      "Epoch 30/200\n",
      "60000/60000 [==============================] - 1s 10us/step - loss: 0.0803 - acc: 0.4172 - val_loss: 0.0799 - val_acc: 0.4219\n",
      "Epoch 31/200\n",
      "60000/60000 [==============================] - 1s 10us/step - loss: 0.0798 - acc: 0.4243 - val_loss: 0.0795 - val_acc: 0.4271\n",
      "Epoch 32/200\n",
      "60000/60000 [==============================] - 1s 10us/step - loss: 0.0794 - acc: 0.4297 - val_loss: 0.0790 - val_acc: 0.4309\n",
      "Epoch 33/200\n",
      "60000/60000 [==============================] - 1s 10us/step - loss: 0.0789 - acc: 0.4348 - val_loss: 0.0785 - val_acc: 0.4365\n",
      "Epoch 34/200\n",
      "60000/60000 [==============================] - 1s 10us/step - loss: 0.0784 - acc: 0.4402 - val_loss: 0.0780 - val_acc: 0.4418\n",
      "Epoch 35/200\n",
      "60000/60000 [==============================] - 1s 10us/step - loss: 0.0780 - acc: 0.4466 - val_loss: 0.0776 - val_acc: 0.4464\n",
      "Epoch 36/200\n",
      "60000/60000 [==============================] - 1s 9us/step - loss: 0.0775 - acc: 0.4527 - val_loss: 0.0771 - val_acc: 0.4521\n",
      "Epoch 37/200\n",
      "60000/60000 [==============================] - 1s 10us/step - loss: 0.0770 - acc: 0.4583 - val_loss: 0.0766 - val_acc: 0.4592\n",
      "Epoch 38/200\n",
      "60000/60000 [==============================] - 1s 10us/step - loss: 0.0765 - acc: 0.4657 - val_loss: 0.0761 - val_acc: 0.4657\n",
      "Epoch 39/200\n",
      "60000/60000 [==============================] - 1s 10us/step - loss: 0.0761 - acc: 0.4716 - val_loss: 0.0756 - val_acc: 0.4722\n",
      "Epoch 40/200\n",
      "60000/60000 [==============================] - 1s 9us/step - loss: 0.0756 - acc: 0.4778 - val_loss: 0.0751 - val_acc: 0.4782\n",
      "Epoch 41/200\n",
      "60000/60000 [==============================] - 1s 10us/step - loss: 0.0751 - acc: 0.4840 - val_loss: 0.0746 - val_acc: 0.4849\n",
      "Epoch 42/200\n",
      "60000/60000 [==============================] - 1s 10us/step - loss: 0.0746 - acc: 0.4901 - val_loss: 0.0741 - val_acc: 0.4909\n",
      "Epoch 43/200\n",
      "60000/60000 [==============================] - 1s 10us/step - loss: 0.0741 - acc: 0.4960 - val_loss: 0.0736 - val_acc: 0.4966\n",
      "Epoch 44/200\n",
      "60000/60000 [==============================] - 1s 10us/step - loss: 0.0736 - acc: 0.5030 - val_loss: 0.0732 - val_acc: 0.5034\n",
      "Epoch 45/200\n",
      "60000/60000 [==============================] - 1s 10us/step - loss: 0.0731 - acc: 0.5084 - val_loss: 0.0727 - val_acc: 0.5094\n",
      "Epoch 46/200\n",
      "60000/60000 [==============================] - 1s 10us/step - loss: 0.0727 - acc: 0.5138 - val_loss: 0.0722 - val_acc: 0.5155\n",
      "Epoch 47/200\n",
      "60000/60000 [==============================] - 1s 10us/step - loss: 0.0722 - acc: 0.5195 - val_loss: 0.0717 - val_acc: 0.5193\n",
      "Epoch 48/200\n",
      "60000/60000 [==============================] - 1s 10us/step - loss: 0.0717 - acc: 0.5243 - val_loss: 0.0712 - val_acc: 0.5251\n",
      "Epoch 49/200\n",
      "60000/60000 [==============================] - 1s 10us/step - loss: 0.0712 - acc: 0.5292 - val_loss: 0.0707 - val_acc: 0.5310\n",
      "Epoch 50/200\n",
      "60000/60000 [==============================] - 1s 10us/step - loss: 0.0707 - acc: 0.5343 - val_loss: 0.0702 - val_acc: 0.5364\n",
      "Epoch 51/200\n",
      "60000/60000 [==============================] - 1s 10us/step - loss: 0.0702 - acc: 0.5395 - val_loss: 0.0697 - val_acc: 0.5420\n",
      "Epoch 52/200\n",
      "60000/60000 [==============================] - 1s 10us/step - loss: 0.0698 - acc: 0.5440 - val_loss: 0.0693 - val_acc: 0.5467\n",
      "Epoch 53/200\n",
      "60000/60000 [==============================] - 1s 10us/step - loss: 0.0693 - acc: 0.5488 - val_loss: 0.0688 - val_acc: 0.5521\n",
      "Epoch 54/200\n",
      "60000/60000 [==============================] - 1s 10us/step - loss: 0.0688 - acc: 0.5528 - val_loss: 0.0683 - val_acc: 0.5568\n",
      "Epoch 55/200\n",
      "60000/60000 [==============================] - 1s 10us/step - loss: 0.0683 - acc: 0.5574 - val_loss: 0.0678 - val_acc: 0.5616\n",
      "Epoch 56/200\n",
      "60000/60000 [==============================] - 1s 10us/step - loss: 0.0679 - acc: 0.5615 - val_loss: 0.0673 - val_acc: 0.5668\n",
      "Epoch 57/200\n",
      "60000/60000 [==============================] - 1s 10us/step - loss: 0.0674 - acc: 0.5663 - val_loss: 0.0669 - val_acc: 0.5706\n",
      "Epoch 58/200\n",
      "60000/60000 [==============================] - 1s 10us/step - loss: 0.0669 - acc: 0.5705 - val_loss: 0.0664 - val_acc: 0.5742\n",
      "Epoch 59/200\n",
      "60000/60000 [==============================] - 1s 10us/step - loss: 0.0665 - acc: 0.5743 - val_loss: 0.0659 - val_acc: 0.5778\n",
      "Epoch 60/200\n",
      "60000/60000 [==============================] - 1s 10us/step - loss: 0.0660 - acc: 0.5790 - val_loss: 0.0655 - val_acc: 0.5824\n",
      "Epoch 61/200\n",
      "60000/60000 [==============================] - 1s 10us/step - loss: 0.0655 - acc: 0.5830 - val_loss: 0.0650 - val_acc: 0.5888\n",
      "Epoch 62/200\n",
      "60000/60000 [==============================] - 1s 10us/step - loss: 0.0651 - acc: 0.5870 - val_loss: 0.0645 - val_acc: 0.5937\n",
      "Epoch 63/200\n",
      "60000/60000 [==============================] - 1s 10us/step - loss: 0.0646 - acc: 0.5910 - val_loss: 0.0641 - val_acc: 0.5967\n",
      "Epoch 64/200\n",
      "60000/60000 [==============================] - 1s 10us/step - loss: 0.0642 - acc: 0.5957 - val_loss: 0.0636 - val_acc: 0.6013\n",
      "Epoch 65/200\n",
      "60000/60000 [==============================] - 1s 10us/step - loss: 0.0637 - acc: 0.5997 - val_loss: 0.0632 - val_acc: 0.6067\n",
      "Epoch 66/200\n",
      "60000/60000 [==============================] - 1s 10us/step - loss: 0.0633 - acc: 0.6039 - val_loss: 0.0627 - val_acc: 0.6120\n",
      "Epoch 67/200\n",
      "60000/60000 [==============================] - 1s 10us/step - loss: 0.0628 - acc: 0.6085 - val_loss: 0.0623 - val_acc: 0.6174\n",
      "Epoch 68/200\n",
      "60000/60000 [==============================] - 1s 10us/step - loss: 0.0624 - acc: 0.6129 - val_loss: 0.0618 - val_acc: 0.6216\n",
      "Epoch 69/200\n",
      "60000/60000 [==============================] - 1s 10us/step - loss: 0.0619 - acc: 0.6171 - val_loss: 0.0614 - val_acc: 0.6249\n",
      "Epoch 70/200\n",
      "60000/60000 [==============================] - 1s 10us/step - loss: 0.0615 - acc: 0.6213 - val_loss: 0.0609 - val_acc: 0.6301\n",
      "Epoch 71/200\n",
      "60000/60000 [==============================] - 1s 10us/step - loss: 0.0610 - acc: 0.6256 - val_loss: 0.0605 - val_acc: 0.6346\n",
      "Epoch 72/200\n",
      "60000/60000 [==============================] - 1s 10us/step - loss: 0.0606 - acc: 0.6294 - val_loss: 0.0600 - val_acc: 0.6392\n",
      "Epoch 73/200\n",
      "60000/60000 [==============================] - 1s 10us/step - loss: 0.0602 - acc: 0.6340 - val_loss: 0.0596 - val_acc: 0.6437\n",
      "Epoch 74/200\n",
      "60000/60000 [==============================] - 1s 10us/step - loss: 0.0598 - acc: 0.6378 - val_loss: 0.0592 - val_acc: 0.6475\n",
      "Epoch 75/200\n",
      "60000/60000 [==============================] - 1s 10us/step - loss: 0.0593 - acc: 0.6416 - val_loss: 0.0587 - val_acc: 0.6505\n",
      "Epoch 76/200\n",
      "60000/60000 [==============================] - 1s 10us/step - loss: 0.0589 - acc: 0.6460 - val_loss: 0.0583 - val_acc: 0.6544\n",
      "Epoch 77/200\n",
      "60000/60000 [==============================] - 1s 10us/step - loss: 0.0585 - acc: 0.6499 - val_loss: 0.0579 - val_acc: 0.6592\n",
      "Epoch 78/200\n",
      "60000/60000 [==============================] - 1s 10us/step - loss: 0.0581 - acc: 0.6537 - val_loss: 0.0575 - val_acc: 0.6635\n",
      "Epoch 79/200\n",
      "60000/60000 [==============================] - 1s 10us/step - loss: 0.0577 - acc: 0.6572 - val_loss: 0.0570 - val_acc: 0.6664\n",
      "Epoch 80/200\n",
      "60000/60000 [==============================] - 1s 10us/step - loss: 0.0572 - acc: 0.6612 - val_loss: 0.0566 - val_acc: 0.6698\n",
      "Epoch 81/200\n",
      "60000/60000 [==============================] - 1s 10us/step - loss: 0.0568 - acc: 0.6647 - val_loss: 0.0562 - val_acc: 0.6731\n",
      "Epoch 82/200\n",
      "60000/60000 [==============================] - 1s 10us/step - loss: 0.0564 - acc: 0.6683 - val_loss: 0.0558 - val_acc: 0.6762\n",
      "Epoch 83/200\n",
      "60000/60000 [==============================] - 1s 10us/step - loss: 0.0560 - acc: 0.6714 - val_loss: 0.0554 - val_acc: 0.6795\n",
      "Epoch 84/200\n",
      "60000/60000 [==============================] - 1s 10us/step - loss: 0.0556 - acc: 0.6748 - val_loss: 0.0550 - val_acc: 0.6833\n",
      "Epoch 85/200\n",
      "60000/60000 [==============================] - 1s 10us/step - loss: 0.0552 - acc: 0.6794 - val_loss: 0.0546 - val_acc: 0.6868\n",
      "Epoch 86/200\n",
      "60000/60000 [==============================] - 1s 10us/step - loss: 0.0548 - acc: 0.6826 - val_loss: 0.0542 - val_acc: 0.6903\n",
      "Epoch 87/200\n",
      "60000/60000 [==============================] - 1s 10us/step - loss: 0.0545 - acc: 0.6855 - val_loss: 0.0538 - val_acc: 0.6942\n",
      "Epoch 88/200\n",
      "60000/60000 [==============================] - 1s 10us/step - loss: 0.0541 - acc: 0.6890 - val_loss: 0.0534 - val_acc: 0.6986\n",
      "Epoch 89/200\n",
      "60000/60000 [==============================] - 1s 10us/step - loss: 0.0537 - acc: 0.6922 - val_loss: 0.0530 - val_acc: 0.7018\n",
      "Epoch 90/200\n",
      "60000/60000 [==============================] - 1s 10us/step - loss: 0.0533 - acc: 0.6948 - val_loss: 0.0526 - val_acc: 0.7049\n",
      "Epoch 91/200\n",
      "60000/60000 [==============================] - 1s 10us/step - loss: 0.0529 - acc: 0.6976 - val_loss: 0.0522 - val_acc: 0.7083\n",
      "Epoch 92/200\n",
      "60000/60000 [==============================] - 1s 10us/step - loss: 0.0526 - acc: 0.7001 - val_loss: 0.0519 - val_acc: 0.7115\n",
      "Epoch 93/200\n",
      "60000/60000 [==============================] - 1s 10us/step - loss: 0.0522 - acc: 0.7031 - val_loss: 0.0515 - val_acc: 0.7142\n",
      "Epoch 94/200\n",
      "60000/60000 [==============================] - 1s 10us/step - loss: 0.0518 - acc: 0.7065 - val_loss: 0.0511 - val_acc: 0.7174\n",
      "Epoch 95/200\n",
      "60000/60000 [==============================] - 1s 10us/step - loss: 0.0515 - acc: 0.7095 - val_loss: 0.0507 - val_acc: 0.7206\n",
      "Epoch 96/200\n",
      "60000/60000 [==============================] - 1s 10us/step - loss: 0.0511 - acc: 0.7121 - val_loss: 0.0504 - val_acc: 0.7227\n",
      "Epoch 97/200\n",
      "60000/60000 [==============================] - 1s 10us/step - loss: 0.0507 - acc: 0.7151 - val_loss: 0.0500 - val_acc: 0.7259\n",
      "Epoch 98/200\n",
      "60000/60000 [==============================] - 1s 10us/step - loss: 0.0504 - acc: 0.7179 - val_loss: 0.0497 - val_acc: 0.7287\n",
      "Epoch 99/200\n",
      "60000/60000 [==============================] - 1s 10us/step - loss: 0.0500 - acc: 0.7209 - val_loss: 0.0493 - val_acc: 0.7310\n",
      "Epoch 100/200\n",
      "60000/60000 [==============================] - 1s 9us/step - loss: 0.0497 - acc: 0.7236 - val_loss: 0.0489 - val_acc: 0.7340\n",
      "Epoch 101/200\n",
      "60000/60000 [==============================] - 1s 10us/step - loss: 0.0493 - acc: 0.7262 - val_loss: 0.0486 - val_acc: 0.7370\n",
      "Epoch 102/200\n",
      "60000/60000 [==============================] - 1s 10us/step - loss: 0.0490 - acc: 0.7286 - val_loss: 0.0483 - val_acc: 0.7397\n",
      "Epoch 103/200\n",
      "60000/60000 [==============================] - 1s 10us/step - loss: 0.0487 - acc: 0.7313 - val_loss: 0.0479 - val_acc: 0.7418\n",
      "Epoch 104/200\n",
      "60000/60000 [==============================] - 1s 10us/step - loss: 0.0483 - acc: 0.7334 - val_loss: 0.0476 - val_acc: 0.7445\n",
      "Epoch 105/200\n",
      "60000/60000 [==============================] - 1s 10us/step - loss: 0.0480 - acc: 0.7360 - val_loss: 0.0472 - val_acc: 0.7464\n",
      "Epoch 106/200\n",
      "60000/60000 [==============================] - 1s 9us/step - loss: 0.0477 - acc: 0.7385 - val_loss: 0.0469 - val_acc: 0.7499\n",
      "Epoch 107/200\n",
      "60000/60000 [==============================] - 1s 10us/step - loss: 0.0474 - acc: 0.7408 - val_loss: 0.0466 - val_acc: 0.7514\n",
      "Epoch 108/200\n",
      "60000/60000 [==============================] - 1s 10us/step - loss: 0.0471 - acc: 0.7435 - val_loss: 0.0463 - val_acc: 0.7533\n",
      "Epoch 109/200\n",
      "60000/60000 [==============================] - 1s 10us/step - loss: 0.0468 - acc: 0.7451 - val_loss: 0.0460 - val_acc: 0.7564\n",
      "Epoch 110/200\n",
      "60000/60000 [==============================] - 1s 10us/step - loss: 0.0465 - acc: 0.7468 - val_loss: 0.0457 - val_acc: 0.7589\n",
      "Epoch 111/200\n",
      "60000/60000 [==============================] - 1s 10us/step - loss: 0.0462 - acc: 0.7494 - val_loss: 0.0453 - val_acc: 0.7603\n",
      "Epoch 112/200\n",
      "60000/60000 [==============================] - 1s 10us/step - loss: 0.0459 - acc: 0.7510 - val_loss: 0.0450 - val_acc: 0.7615\n",
      "Epoch 113/200\n",
      "60000/60000 [==============================] - 1s 10us/step - loss: 0.0456 - acc: 0.7531 - val_loss: 0.0447 - val_acc: 0.7631\n",
      "Epoch 114/200\n",
      "60000/60000 [==============================] - 1s 10us/step - loss: 0.0453 - acc: 0.7549 - val_loss: 0.0444 - val_acc: 0.7649\n",
      "Epoch 115/200\n",
      "60000/60000 [==============================] - 1s 10us/step - loss: 0.0450 - acc: 0.7562 - val_loss: 0.0442 - val_acc: 0.7665\n",
      "Epoch 116/200\n",
      "60000/60000 [==============================] - 1s 10us/step - loss: 0.0447 - acc: 0.7582 - val_loss: 0.0439 - val_acc: 0.7684\n",
      "Epoch 117/200\n",
      "60000/60000 [==============================] - 1s 10us/step - loss: 0.0444 - acc: 0.7595 - val_loss: 0.0436 - val_acc: 0.7693\n"
     ]
    },
    {
     "name": "stdout",
     "output_type": "stream",
     "text": [
      "Epoch 118/200\n",
      "60000/60000 [==============================] - 1s 10us/step - loss: 0.0442 - acc: 0.7608 - val_loss: 0.0433 - val_acc: 0.7708\n",
      "Epoch 119/200\n",
      "60000/60000 [==============================] - 1s 10us/step - loss: 0.0439 - acc: 0.7624 - val_loss: 0.0430 - val_acc: 0.7716\n",
      "Epoch 120/200\n",
      "60000/60000 [==============================] - 1s 10us/step - loss: 0.0436 - acc: 0.7636 - val_loss: 0.0428 - val_acc: 0.7732\n",
      "Epoch 121/200\n",
      "60000/60000 [==============================] - 1s 10us/step - loss: 0.0434 - acc: 0.7651 - val_loss: 0.0425 - val_acc: 0.7743\n",
      "Epoch 122/200\n",
      "60000/60000 [==============================] - 1s 10us/step - loss: 0.0431 - acc: 0.7665 - val_loss: 0.0422 - val_acc: 0.7758\n",
      "Epoch 123/200\n",
      "60000/60000 [==============================] - 1s 10us/step - loss: 0.0428 - acc: 0.7677 - val_loss: 0.0420 - val_acc: 0.7777\n",
      "Epoch 124/200\n",
      "60000/60000 [==============================] - 1s 10us/step - loss: 0.0426 - acc: 0.7685 - val_loss: 0.0417 - val_acc: 0.7791\n",
      "Epoch 125/200\n",
      "60000/60000 [==============================] - 1s 10us/step - loss: 0.0423 - acc: 0.7694 - val_loss: 0.0415 - val_acc: 0.7803\n",
      "Epoch 126/200\n",
      "60000/60000 [==============================] - 1s 10us/step - loss: 0.0421 - acc: 0.7707 - val_loss: 0.0412 - val_acc: 0.7810\n",
      "Epoch 127/200\n",
      "60000/60000 [==============================] - 1s 10us/step - loss: 0.0419 - acc: 0.7715 - val_loss: 0.0410 - val_acc: 0.7815\n",
      "Epoch 128/200\n",
      "60000/60000 [==============================] - 1s 10us/step - loss: 0.0416 - acc: 0.7723 - val_loss: 0.0407 - val_acc: 0.7829\n",
      "Epoch 129/200\n",
      "60000/60000 [==============================] - 1s 10us/step - loss: 0.0414 - acc: 0.7729 - val_loss: 0.0405 - val_acc: 0.7832\n",
      "Epoch 130/200\n",
      "60000/60000 [==============================] - 1s 10us/step - loss: 0.0412 - acc: 0.7737 - val_loss: 0.0403 - val_acc: 0.7843\n",
      "Epoch 131/200\n",
      "60000/60000 [==============================] - 1s 10us/step - loss: 0.0409 - acc: 0.7747 - val_loss: 0.0400 - val_acc: 0.7850\n",
      "Epoch 132/200\n",
      "60000/60000 [==============================] - 1s 10us/step - loss: 0.0407 - acc: 0.7753 - val_loss: 0.0398 - val_acc: 0.7863\n",
      "Epoch 133/200\n",
      "60000/60000 [==============================] - 1s 10us/step - loss: 0.0405 - acc: 0.7760 - val_loss: 0.0396 - val_acc: 0.7865\n",
      "Epoch 134/200\n",
      "60000/60000 [==============================] - 1s 10us/step - loss: 0.0403 - acc: 0.7767 - val_loss: 0.0394 - val_acc: 0.7875\n",
      "Epoch 135/200\n",
      "60000/60000 [==============================] - 1s 10us/step - loss: 0.0400 - acc: 0.7774 - val_loss: 0.0391 - val_acc: 0.7881\n",
      "Epoch 136/200\n",
      "60000/60000 [==============================] - 1s 10us/step - loss: 0.0398 - acc: 0.7780 - val_loss: 0.0389 - val_acc: 0.7890\n",
      "Epoch 137/200\n",
      "60000/60000 [==============================] - 1s 10us/step - loss: 0.0396 - acc: 0.7788 - val_loss: 0.0387 - val_acc: 0.7897\n",
      "Epoch 138/200\n",
      "60000/60000 [==============================] - 1s 10us/step - loss: 0.0394 - acc: 0.7793 - val_loss: 0.0385 - val_acc: 0.7904\n",
      "Epoch 139/200\n",
      "60000/60000 [==============================] - 1s 10us/step - loss: 0.0392 - acc: 0.7798 - val_loss: 0.0383 - val_acc: 0.7908\n",
      "Epoch 140/200\n",
      "60000/60000 [==============================] - 1s 10us/step - loss: 0.0390 - acc: 0.7806 - val_loss: 0.0381 - val_acc: 0.7920\n",
      "Epoch 141/200\n",
      "60000/60000 [==============================] - 1s 10us/step - loss: 0.0388 - acc: 0.7813 - val_loss: 0.0379 - val_acc: 0.7923\n",
      "Epoch 142/200\n",
      "60000/60000 [==============================] - 1s 10us/step - loss: 0.0386 - acc: 0.7818 - val_loss: 0.0377 - val_acc: 0.7929\n",
      "Epoch 143/200\n",
      "60000/60000 [==============================] - 1s 11us/step - loss: 0.0384 - acc: 0.7824 - val_loss: 0.0375 - val_acc: 0.7936\n",
      "Epoch 144/200\n",
      "60000/60000 [==============================] - 1s 10us/step - loss: 0.0382 - acc: 0.7828 - val_loss: 0.0373 - val_acc: 0.7942\n",
      "Epoch 145/200\n",
      "60000/60000 [==============================] - 1s 9us/step - loss: 0.0380 - acc: 0.7836 - val_loss: 0.0371 - val_acc: 0.7944\n",
      "Epoch 146/200\n",
      "60000/60000 [==============================] - 1s 10us/step - loss: 0.0378 - acc: 0.7841 - val_loss: 0.0369 - val_acc: 0.7946\n",
      "Epoch 147/200\n",
      "60000/60000 [==============================] - 1s 10us/step - loss: 0.0377 - acc: 0.7847 - val_loss: 0.0367 - val_acc: 0.7948\n",
      "Epoch 148/200\n",
      "60000/60000 [==============================] - 1s 10us/step - loss: 0.0375 - acc: 0.7854 - val_loss: 0.0365 - val_acc: 0.7954\n",
      "Epoch 149/200\n",
      "60000/60000 [==============================] - 1s 10us/step - loss: 0.0373 - acc: 0.7859 - val_loss: 0.0363 - val_acc: 0.7960\n",
      "Epoch 150/200\n",
      "60000/60000 [==============================] - 1s 10us/step - loss: 0.0371 - acc: 0.7865 - val_loss: 0.0362 - val_acc: 0.7966\n",
      "Epoch 151/200\n",
      "60000/60000 [==============================] - 1s 10us/step - loss: 0.0369 - acc: 0.7868 - val_loss: 0.0360 - val_acc: 0.7975\n",
      "Epoch 152/200\n",
      "60000/60000 [==============================] - 1s 10us/step - loss: 0.0367 - acc: 0.7872 - val_loss: 0.0358 - val_acc: 0.7982\n",
      "Epoch 153/200\n",
      "60000/60000 [==============================] - 1s 10us/step - loss: 0.0366 - acc: 0.7879 - val_loss: 0.0356 - val_acc: 0.7990\n",
      "Epoch 154/200\n",
      "60000/60000 [==============================] - 1s 10us/step - loss: 0.0364 - acc: 0.7887 - val_loss: 0.0354 - val_acc: 0.7995\n",
      "Epoch 155/200\n",
      "60000/60000 [==============================] - 1s 10us/step - loss: 0.0362 - acc: 0.7894 - val_loss: 0.0353 - val_acc: 0.8004\n",
      "Epoch 156/200\n",
      "60000/60000 [==============================] - 1s 10us/step - loss: 0.0360 - acc: 0.7900 - val_loss: 0.0351 - val_acc: 0.8006\n",
      "Epoch 157/200\n",
      "60000/60000 [==============================] - 1s 10us/step - loss: 0.0359 - acc: 0.7906 - val_loss: 0.0349 - val_acc: 0.8019\n",
      "Epoch 158/200\n",
      "60000/60000 [==============================] - 1s 10us/step - loss: 0.0357 - acc: 0.7913 - val_loss: 0.0347 - val_acc: 0.8027\n",
      "Epoch 159/200\n",
      "60000/60000 [==============================] - 1s 10us/step - loss: 0.0355 - acc: 0.7921 - val_loss: 0.0346 - val_acc: 0.8035\n",
      "Epoch 160/200\n",
      "60000/60000 [==============================] - 1s 10us/step - loss: 0.0354 - acc: 0.7929 - val_loss: 0.0344 - val_acc: 0.8044\n",
      "Epoch 161/200\n",
      "60000/60000 [==============================] - 1s 10us/step - loss: 0.0352 - acc: 0.7937 - val_loss: 0.0342 - val_acc: 0.8057\n",
      "Epoch 162/200\n",
      "60000/60000 [==============================] - 1s 10us/step - loss: 0.0350 - acc: 0.7947 - val_loss: 0.0341 - val_acc: 0.8070\n",
      "Epoch 163/200\n",
      "60000/60000 [==============================] - 1s 10us/step - loss: 0.0349 - acc: 0.7959 - val_loss: 0.0339 - val_acc: 0.8083\n",
      "Epoch 164/200\n",
      "60000/60000 [==============================] - 1s 10us/step - loss: 0.0347 - acc: 0.7970 - val_loss: 0.0337 - val_acc: 0.8094\n",
      "Epoch 165/200\n",
      "60000/60000 [==============================] - 1s 10us/step - loss: 0.0345 - acc: 0.7982 - val_loss: 0.0336 - val_acc: 0.8106\n",
      "Epoch 166/200\n",
      "60000/60000 [==============================] - 1s 10us/step - loss: 0.0344 - acc: 0.7993 - val_loss: 0.0334 - val_acc: 0.8121\n",
      "Epoch 167/200\n",
      "60000/60000 [==============================] - 1s 10us/step - loss: 0.0342 - acc: 0.8008 - val_loss: 0.0333 - val_acc: 0.8135\n",
      "Epoch 168/200\n",
      "60000/60000 [==============================] - 1s 10us/step - loss: 0.0341 - acc: 0.8021 - val_loss: 0.0331 - val_acc: 0.8149\n",
      "Epoch 169/200\n",
      "60000/60000 [==============================] - 1s 10us/step - loss: 0.0339 - acc: 0.8035 - val_loss: 0.0329 - val_acc: 0.8168\n",
      "Epoch 170/200\n",
      "60000/60000 [==============================] - 1s 10us/step - loss: 0.0337 - acc: 0.8050 - val_loss: 0.0328 - val_acc: 0.8187\n",
      "Epoch 171/200\n",
      "60000/60000 [==============================] - 1s 10us/step - loss: 0.0336 - acc: 0.8066 - val_loss: 0.0326 - val_acc: 0.8199\n",
      "Epoch 172/200\n",
      "60000/60000 [==============================] - 1s 10us/step - loss: 0.0334 - acc: 0.8079 - val_loss: 0.0325 - val_acc: 0.8205\n",
      "Epoch 173/200\n",
      "60000/60000 [==============================] - 1s 10us/step - loss: 0.0333 - acc: 0.8092 - val_loss: 0.0323 - val_acc: 0.8221\n",
      "Epoch 174/200\n",
      "60000/60000 [==============================] - 1s 10us/step - loss: 0.0331 - acc: 0.8111 - val_loss: 0.0322 - val_acc: 0.8240\n",
      "Epoch 175/200\n",
      "60000/60000 [==============================] - 1s 10us/step - loss: 0.0330 - acc: 0.8127 - val_loss: 0.0320 - val_acc: 0.8247\n",
      "Epoch 176/200\n",
      "60000/60000 [==============================] - 1s 10us/step - loss: 0.0328 - acc: 0.8141 - val_loss: 0.0319 - val_acc: 0.8269\n",
      "Epoch 177/200\n",
      "60000/60000 [==============================] - 1s 10us/step - loss: 0.0327 - acc: 0.8160 - val_loss: 0.0317 - val_acc: 0.8279\n",
      "Epoch 178/200\n",
      "60000/60000 [==============================] - 1s 10us/step - loss: 0.0325 - acc: 0.8174 - val_loss: 0.0316 - val_acc: 0.8292\n",
      "Epoch 179/200\n",
      "60000/60000 [==============================] - 1s 10us/step - loss: 0.0324 - acc: 0.8185 - val_loss: 0.0314 - val_acc: 0.8303\n",
      "Epoch 180/200\n",
      "60000/60000 [==============================] - 1s 10us/step - loss: 0.0323 - acc: 0.8201 - val_loss: 0.0313 - val_acc: 0.8322\n",
      "Epoch 181/200\n",
      "60000/60000 [==============================] - 1s 10us/step - loss: 0.0321 - acc: 0.8217 - val_loss: 0.0311 - val_acc: 0.8341\n",
      "Epoch 182/200\n",
      "60000/60000 [==============================] - 1s 10us/step - loss: 0.0320 - acc: 0.8230 - val_loss: 0.0310 - val_acc: 0.8358\n",
      "Epoch 183/200\n",
      "60000/60000 [==============================] - 1s 10us/step - loss: 0.0318 - acc: 0.8245 - val_loss: 0.0309 - val_acc: 0.8376\n",
      "Epoch 184/200\n",
      "60000/60000 [==============================] - 1s 10us/step - loss: 0.0317 - acc: 0.8256 - val_loss: 0.0307 - val_acc: 0.8382\n",
      "Epoch 185/200\n",
      "60000/60000 [==============================] - 1s 10us/step - loss: 0.0316 - acc: 0.8275 - val_loss: 0.0306 - val_acc: 0.8396\n",
      "Epoch 186/200\n",
      "60000/60000 [==============================] - 1s 10us/step - loss: 0.0314 - acc: 0.8287 - val_loss: 0.0304 - val_acc: 0.8407\n",
      "Epoch 187/200\n",
      "60000/60000 [==============================] - 1s 10us/step - loss: 0.0313 - acc: 0.8301 - val_loss: 0.0303 - val_acc: 0.8427\n",
      "Epoch 188/200\n",
      "60000/60000 [==============================] - 1s 10us/step - loss: 0.0311 - acc: 0.8310 - val_loss: 0.0302 - val_acc: 0.8436\n",
      "Epoch 189/200\n",
      "60000/60000 [==============================] - 1s 10us/step - loss: 0.0310 - acc: 0.8323 - val_loss: 0.0300 - val_acc: 0.8454\n",
      "Epoch 190/200\n",
      "60000/60000 [==============================] - 1s 10us/step - loss: 0.0309 - acc: 0.8338 - val_loss: 0.0299 - val_acc: 0.8469\n",
      "Epoch 191/200\n",
      "60000/60000 [==============================] - 1s 10us/step - loss: 0.0307 - acc: 0.8348 - val_loss: 0.0298 - val_acc: 0.8483\n",
      "Epoch 192/200\n",
      "60000/60000 [==============================] - 1s 10us/step - loss: 0.0306 - acc: 0.8360 - val_loss: 0.0296 - val_acc: 0.8492\n",
      "Epoch 193/200\n",
      "60000/60000 [==============================] - 1s 10us/step - loss: 0.0305 - acc: 0.8371 - val_loss: 0.0295 - val_acc: 0.8498\n",
      "Epoch 194/200\n",
      "60000/60000 [==============================] - 1s 10us/step - loss: 0.0304 - acc: 0.8383 - val_loss: 0.0294 - val_acc: 0.8509\n",
      "Epoch 195/200\n",
      "60000/60000 [==============================] - 1s 10us/step - loss: 0.0302 - acc: 0.8396 - val_loss: 0.0292 - val_acc: 0.8518\n",
      "Epoch 196/200\n",
      "60000/60000 [==============================] - 1s 10us/step - loss: 0.0301 - acc: 0.8405 - val_loss: 0.0291 - val_acc: 0.8525\n",
      "Epoch 197/200\n",
      "60000/60000 [==============================] - 1s 10us/step - loss: 0.0300 - acc: 0.8414 - val_loss: 0.0290 - val_acc: 0.8532\n",
      "Epoch 198/200\n",
      "60000/60000 [==============================] - 1s 10us/step - loss: 0.0299 - acc: 0.8425 - val_loss: 0.0289 - val_acc: 0.8544\n",
      "Epoch 199/200\n",
      "60000/60000 [==============================] - 1s 10us/step - loss: 0.0297 - acc: 0.8437 - val_loss: 0.0287 - val_acc: 0.8548\n",
      "Epoch 200/200\n",
      "60000/60000 [==============================] - 1s 10us/step - loss: 0.0296 - acc: 0.8446 - val_loss: 0.0286 - val_acc: 0.8560\n"
     ]
    },
    {
     "data": {
      "text/plain": [
       "<keras.callbacks.History at 0x7f7ccd479b38>"
      ]
     },
     "execution_count": 23,
     "metadata": {},
     "output_type": "execute_result"
    }
   ],
   "source": [
    "model.fit(X_train, y_train, batch_size=128, epochs=200, verbose=1, validation_data=(X_valid, y_valid))"
   ]
  },
  {
   "cell_type": "code",
   "execution_count": 24,
   "metadata": {},
   "outputs": [
    {
     "name": "stdout",
     "output_type": "stream",
     "text": [
      "10000/10000 [==============================] - 0s 11us/step\n"
     ]
    },
    {
     "data": {
      "text/plain": [
       "[0.02861827013194561, 0.856]"
      ]
     },
     "execution_count": 24,
     "metadata": {},
     "output_type": "execute_result"
    }
   ],
   "source": [
    "model.evaluate(X_valid, y_valid)"
   ]
  },
  {
   "cell_type": "code",
   "execution_count": null,
   "metadata": {},
   "outputs": [],
   "source": []
  }
 ],
 "metadata": {
  "kernelspec": {
   "display_name": "Python 3",
   "language": "python",
   "name": "python3"
  },
  "language_info": {
   "codemirror_mode": {
    "name": "ipython",
    "version": 3
   },
   "file_extension": ".py",
   "mimetype": "text/x-python",
   "name": "python",
   "nbconvert_exporter": "python",
   "pygments_lexer": "ipython3",
   "version": "3.8.5"
  }
 },
 "nbformat": 4,
 "nbformat_minor": 2
}
