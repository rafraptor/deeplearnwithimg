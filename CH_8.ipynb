{
 "cells": [
  {
   "cell_type": "code",
   "execution_count": 1,
   "metadata": {},
   "outputs": [],
   "source": [
    "import keras\n",
    "from keras.datasets import mnist\n",
    "from keras.models import Sequential\n",
    "from keras.layers import Dense\n",
    "from keras.optimizers import SGD\n",
    "from matplotlib import pyplot as plt"
   ]
  },
  {
   "cell_type": "code",
   "execution_count": 2,
   "metadata": {},
   "outputs": [],
   "source": [
    "(X_train, y_train), (X_valid, y_valid) = mnist.load_data()"
   ]
  },
  {
   "cell_type": "code",
   "execution_count": 13,
   "metadata": {},
   "outputs": [
    {
     "data": {
      "text/plain": [
       "60000"
      ]
     },
     "execution_count": 13,
     "metadata": {},
     "output_type": "execute_result"
    }
   ],
   "source": [
    "len(X_train)"
   ]
  },
  {
   "cell_type": "code",
   "execution_count": 3,
   "metadata": {},
   "outputs": [],
   "source": [
    "X_train = X_train.reshape(60000, 784).astype(\"float32\")\n",
    "X_valid = X_valid.reshape(10000, 784).astype(\"float32\")\n",
    "X_train /= 255\n",
    "X_valid /= 255\n",
    "n_classes = 10\n",
    "y_train = keras.utils.to_categorical(y_train, n_classes)\n",
    "y_valid = keras.utils.to_categorical(y_valid, n_classes)\n"
   ]
  },
  {
   "cell_type": "code",
   "execution_count": 5,
   "metadata": {},
   "outputs": [],
   "source": [
    "model = Sequential()\n",
    "model.add(Dense(64, activation='relu', input_shape=(784,)))\n",
    "model.add(Dense(64, activation='relu'))\n",
    "model.add(Dense(10, activation='softmax'))\n"
   ]
  },
  {
   "cell_type": "code",
   "execution_count": 9,
   "metadata": {},
   "outputs": [],
   "source": [
    "model.compile(loss='categorical_crossentropy',\n",
    "              optimizer=SGD(lr=0.1),\n",
    "              metrics=['accuracy'])"
   ]
  },
  {
   "cell_type": "code",
   "execution_count": 6,
   "metadata": {},
   "outputs": [
    {
     "name": "stdout",
     "output_type": "stream",
     "text": [
      "Model: \"sequential\"\n",
      "_________________________________________________________________\n",
      "Layer (type)                 Output Shape              Param #   \n",
      "=================================================================\n",
      "dense (Dense)                (None, 64)                50240     \n",
      "_________________________________________________________________\n",
      "dense_1 (Dense)              (None, 64)                4160      \n",
      "_________________________________________________________________\n",
      "dense_2 (Dense)              (None, 10)                650       \n",
      "=================================================================\n",
      "Total params: 55,050\n",
      "Trainable params: 55,050\n",
      "Non-trainable params: 0\n",
      "_________________________________________________________________\n"
     ]
    }
   ],
   "source": [
    "model.summary()"
   ]
  },
  {
   "cell_type": "code",
   "execution_count": 15,
   "metadata": {},
   "outputs": [
    {
     "name": "stdout",
     "output_type": "stream",
     "text": [
      "Epoch 1/20\n",
      "469/469 [==============================] - 1s 1ms/step - loss: 4.0337e-04 - accuracy: 1.0000 - val_loss: 0.1377 - val_accuracy: 0.9757\n",
      "Epoch 2/20\n",
      "469/469 [==============================] - 1s 1ms/step - loss: 3.9589e-04 - accuracy: 1.0000 - val_loss: 0.1378 - val_accuracy: 0.9762\n",
      "Epoch 3/20\n",
      "469/469 [==============================] - 1s 1ms/step - loss: 3.9217e-04 - accuracy: 1.0000 - val_loss: 0.1379 - val_accuracy: 0.9756\n",
      "Epoch 4/20\n",
      "469/469 [==============================] - 1s 1ms/step - loss: 3.8782e-04 - accuracy: 1.0000 - val_loss: 0.1380 - val_accuracy: 0.9758\n",
      "Epoch 5/20\n",
      "469/469 [==============================] - 1s 1ms/step - loss: 3.8243e-04 - accuracy: 1.0000 - val_loss: 0.1386 - val_accuracy: 0.9759\n",
      "Epoch 6/20\n",
      "469/469 [==============================] - 1s 1ms/step - loss: 3.7818e-04 - accuracy: 1.0000 - val_loss: 0.1385 - val_accuracy: 0.9758\n",
      "Epoch 7/20\n",
      "469/469 [==============================] - 1s 1ms/step - loss: 3.7412e-04 - accuracy: 1.0000 - val_loss: 0.1388 - val_accuracy: 0.9755\n",
      "Epoch 8/20\n",
      "469/469 [==============================] - 1s 1ms/step - loss: 3.6926e-04 - accuracy: 1.0000 - val_loss: 0.1386 - val_accuracy: 0.9756\n",
      "Epoch 9/20\n",
      "469/469 [==============================] - 1s 1ms/step - loss: 3.6528e-04 - accuracy: 1.0000 - val_loss: 0.1393 - val_accuracy: 0.9758\n",
      "Epoch 10/20\n",
      "469/469 [==============================] - 1s 1ms/step - loss: 3.6157e-04 - accuracy: 1.0000 - val_loss: 0.1389 - val_accuracy: 0.9759\n",
      "Epoch 11/20\n",
      "469/469 [==============================] - 1s 1ms/step - loss: 3.5733e-04 - accuracy: 1.0000 - val_loss: 0.1398 - val_accuracy: 0.9758\n",
      "Epoch 12/20\n",
      "469/469 [==============================] - 1s 1ms/step - loss: 3.5285e-04 - accuracy: 1.0000 - val_loss: 0.1397 - val_accuracy: 0.9758\n",
      "Epoch 13/20\n",
      "469/469 [==============================] - 1s 1ms/step - loss: 3.4960e-04 - accuracy: 1.0000 - val_loss: 0.1400 - val_accuracy: 0.9758\n",
      "Epoch 14/20\n",
      "469/469 [==============================] - 1s 1ms/step - loss: 3.4592e-04 - accuracy: 1.0000 - val_loss: 0.1399 - val_accuracy: 0.9757\n",
      "Epoch 15/20\n",
      "469/469 [==============================] - 1s 1ms/step - loss: 3.4414e-04 - accuracy: 1.0000 - val_loss: 0.1406 - val_accuracy: 0.9757\n",
      "Epoch 16/20\n",
      "469/469 [==============================] - 1s 1ms/step - loss: 3.3907e-04 - accuracy: 1.0000 - val_loss: 0.1402 - val_accuracy: 0.9757\n",
      "Epoch 17/20\n",
      "469/469 [==============================] - 1s 1ms/step - loss: 3.3503e-04 - accuracy: 1.0000 - val_loss: 0.1411 - val_accuracy: 0.9754\n",
      "Epoch 18/20\n",
      "469/469 [==============================] - 1s 1ms/step - loss: 3.3199e-04 - accuracy: 1.0000 - val_loss: 0.1410 - val_accuracy: 0.9760\n",
      "Epoch 19/20\n",
      "469/469 [==============================] - 1s 1ms/step - loss: 3.2850e-04 - accuracy: 1.0000 - val_loss: 0.1406 - val_accuracy: 0.9759\n",
      "Epoch 20/20\n",
      "469/469 [==============================] - 1s 1ms/step - loss: 3.2491e-04 - accuracy: 1.0000 - val_loss: 0.1415 - val_accuracy: 0.9757\n"
     ]
    },
    {
     "data": {
      "text/plain": [
       "<tensorflow.python.keras.callbacks.History at 0x1e32e963e80>"
      ]
     },
     "execution_count": 15,
     "metadata": {},
     "output_type": "execute_result"
    }
   ],
   "source": [
    "model.fit(X_train, y_train, batch_size=128, epochs=20, verbose=1, validation_data=(X_valid, y_valid))"
   ]
  },
  {
   "cell_type": "code",
   "execution_count": null,
   "metadata": {},
   "outputs": [],
   "source": []
  },
  {
   "cell_type": "code",
   "execution_count": null,
   "metadata": {},
   "outputs": [],
   "source": []
  },
  {
   "cell_type": "code",
   "execution_count": null,
   "metadata": {},
   "outputs": [],
   "source": []
  }
 ],
 "metadata": {
  "kernelspec": {
   "display_name": "Python 3",
   "language": "python",
   "name": "python3"
  },
  "language_info": {
   "codemirror_mode": {
    "name": "ipython",
    "version": 3
   },
   "file_extension": ".py",
   "mimetype": "text/x-python",
   "name": "python",
   "nbconvert_exporter": "python",
   "pygments_lexer": "ipython3",
   "version": "3.8.5"
  }
 },
 "nbformat": 4,
 "nbformat_minor": 4
}
